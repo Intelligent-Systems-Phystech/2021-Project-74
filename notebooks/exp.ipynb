{
 "cells": [
  {
   "cell_type": "code",
   "execution_count": null,
   "metadata": {},
   "outputs": [],
   "source": [
    "import os \n",
    "\n",
    "import numpy as np\n",
    "import scipy.stats as sps\n",
    "import pandas as pd\n",
    "import seaborn as sns\n",
    "import matplotlib.pyplot as plt\n",
    "import random\n",
    "\n",
    "import sys, os\n",
    "sys.path += [os.path.abspath(os.pardir + '/code')]\n",
    "print(sys.path)\n",
    "\n",
    "from experiment import init_random_state, BanditLoopExperiment, get_ts_model\n",
    "\n",
    "sns.set(font_scale=1.2, palette='Set2') "
   ]
  },
  {
   "cell_type": "code",
   "execution_count": null,
   "metadata": {},
   "outputs": [],
   "source": [
    "def draw_posteriori(grid, distr_class, post_params, obj, steps, xlim=None):\n",
    "    '''Рисует серию графиков апостериорных плотностей.\n",
    "    \n",
    "    :param grid: сетка для построения графика\n",
    "    :param distr_class: класс распределений из scipy.stats\n",
    "    :param post_params: параметры апостериорных распределений \n",
    "        shape=(размер выборки, кол-во параметров)\n",
    "    '''\n",
    "    \n",
    "    sns.set(font_scale=1.3)\n",
    "    \n",
    "    size = post_params.shape[0] - 1\n",
    "    plt.figure(figsize=(12, 7))\n",
    "    for n, t in enumerate(steps):\n",
    "        plt.plot(grid, \n",
    "                 distr_class(post_params[n]).pdf(grid) \\\n",
    "                     if np.isscalar(post_params[n]) \\\n",
    "                     else distr_class(*post_params[n]).pdf(grid), \n",
    "                 label='t={}: {}'.format(t, np.round(post_params[n], 3)), \n",
    "                 lw=2.5,\n",
    "                 color=(1-n/size, n/size, 0))\n",
    "    plt.title(f'Апостериорное распределение для объекта {obj} в зависимости от шага')\n",
    "    plt.grid(ls=':')\n",
    "    plt.legend(fontsize=12)\n",
    "    plt.xlim(xlim)\n",
    "    plt.show()"
   ]
  },
  {
   "cell_type": "code",
   "execution_count": null,
   "metadata": {},
   "outputs": [],
   "source": [
    "seed = 42\n",
    "\n",
    "p = 0.8\n",
    "Q = 1\n",
    "ws = np.linspace(40, 50, 11)\n",
    "\n",
    "T = 1000\n",
    "M = 5\n",
    "l = 2"
   ]
  },
  {
   "cell_type": "code",
   "execution_count": null,
   "metadata": {},
   "outputs": [],
   "source": [
    "interests, TS_paramss, responses = [], [], []"
   ]
  },
  {
   "cell_type": "code",
   "execution_count": null,
   "metadata": {},
   "outputs": [],
   "source": [
    "for w in ws:\n",
    "    init_random_state(seed)\n",
    "    \n",
    "    bandit = lambda: get_ts_model(M=M, l=l)\n",
    "    exp = BanditLoopExperiment(bandit, \"TS bandit\")\n",
    "    exp.prepare(w=w, Q=Q, p=p)\n",
    "    exp.run_experiment(T=T)\n",
    "    \n",
    "    results = exp.get_as_np()\n",
    "    interests.append(results.interest)\n",
    "    TS_paramss.append(results.TS_params)\n",
    "    responses.append(results.response)"
   ]
  },
  {
   "cell_type": "code",
   "execution_count": null,
   "metadata": {},
   "outputs": [],
   "source": [
    "sum_responces = []\n",
    "for  i, w in enumerate(ws):\n",
    "    sum_responces.append(np.cumsum(responses[i].sum(axis=1)))\n",
    "plt.figure(figsize=(12, 6))\n",
    "\n",
    "for i, w in enumerate(ws):\n",
    "    plt.plot(np.arange(1, T+1), sum_responces[i], label=f'Рекомендательная система с шумом w = {w}')\n",
    "plt.plot(np.arange(T)*l, label='идеальный случай', linestyle='--')\n",
    "plt.title('Зависимость суммы откликов от времени')\n",
    "plt.ylabel('Сумма откликов')\n",
    "plt.xlabel('Шаг')\n",
    "plt.legend()"
   ]
  },
  {
   "cell_type": "code",
   "execution_count": null,
   "metadata": {},
   "outputs": [],
   "source": [
    "plt.figure(figsize=(18, 18))\n",
    "for m in range(M):\n",
    "    plt.subplot(M // 2 + 1, 2, m+1)\n",
    "    for i, w in enumerate(ws):\n",
    "        plt.plot(interests[i][:, m], label=f'с шумом w = {w}')\n",
    "    plt.title(f'интерес к {m} объекту')\n",
    "    plt.ylabel('интерес')\n",
    "    plt.xlabel('Шаг')\n",
    "    plt.legend()\n",
    "\n",
    "    plt.tight_layout()"
   ]
  },
  {
   "cell_type": "code",
   "execution_count": null,
   "metadata": {},
   "outputs": [],
   "source": [
    "plt.figure(figsize=(16, 8))\n",
    "for i, w in enumerate(ws):\n",
    "    plt.plot(np.linalg.norm(interests[i] - interests[i][0], axis=1)**2, label=f'с шумом w = {w}')\n",
    "plt.ylabel(r'$\\|\\mu_t - \\mu_0 \\|^2$')\n",
    "plt.legend()\n",
    "plt.xlabel('Шаг')"
   ]
  },
  {
   "cell_type": "code",
   "execution_count": null,
   "metadata": {},
   "outputs": [],
   "source": [
    "for i in range(M):\n",
    "    draw_posteriori(np.linspace(0, 1., 100), sps.beta, TS_paramss[0][::100][:, i], obj=i, steps = range(0, T, 100))"
   ]
  },
  {
   "cell_type": "code",
   "execution_count": null,
   "metadata": {},
   "outputs": [],
   "source": []
  },
  {
   "cell_type": "code",
   "execution_count": null,
   "metadata": {},
   "outputs": [],
   "source": []
  }
 ],
 "metadata": {
  "kernelspec": {
   "display_name": "Python 3",
   "language": "python",
   "name": "python3"
  },
  "language_info": {
   "codemirror_mode": {
    "name": "ipython",
    "version": 3
   },
   "file_extension": ".py",
   "mimetype": "text/x-python",
   "name": "python",
   "nbconvert_exporter": "python",
   "pygments_lexer": "ipython3",
   "version": "3.6.9"
  }
 },
 "nbformat": 4,
 "nbformat_minor": 4
}
