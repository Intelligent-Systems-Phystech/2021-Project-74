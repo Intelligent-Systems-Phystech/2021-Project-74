{
 "cells": [
  {
   "cell_type": "code",
   "execution_count": 1,
   "metadata": {},
   "outputs": [
    {
     "name": "stdout",
     "output_type": "stream",
     "text": [
      "['/home/anton/Desktop/m1p/2021-Project-74/notebooks', '/usr/lib/python38.zip', '/usr/lib/python3.8', '/usr/lib/python3.8/lib-dynload', '', '/home/anton/.local/lib/python3.8/site-packages', '/usr/local/lib/python3.8/dist-packages', '/usr/lib/python3/dist-packages', '/home/anton/.local/lib/python3.8/site-packages/IPython/extensions', '/home/anton/.ipython', '/home/anton/Desktop/m1p/2021-Project-74/code']\n"
     ]
    }
   ],
   "source": [
    "import os \n",
    "\n",
    "import numpy as np\n",
    "import scipy.stats as sps\n",
    "import pandas as pd\n",
    "import seaborn as sns\n",
    "import matplotlib.pyplot as plt\n",
    "import random\n",
    "\n",
    "import sys, os\n",
    "sys.path += [os.path.abspath(os.pardir + '/code')]\n",
    "print(sys.path)\n",
    "\n",
    "from experiment import init_random_state, BanditLoopExperiment, get_ts_model\n",
    "\n",
    "sns.set(font_scale=1.2, palette='tab20') "
   ]
  },
  {
   "cell_type": "code",
   "execution_count": 5,
   "metadata": {},
   "outputs": [],
   "source": [
    "p = 0.9\n",
    "Q = 1\n",
    "w = 4\n",
    "b = 0.0\n",
    "\n",
    "T = 2000\n",
    "M = 10\n",
    "l = 4\n",
    "interests, responses = [], []\n",
    "\n",
    "\n",
    "repeats = 30\n",
    "\n",
    "for i in range(repeats):\n",
    "    init_random_state(i)\n",
    "    \n",
    "    bandit = lambda: get_ts_model(M=M, l=l)\n",
    "    exp = BanditLoopExperiment(bandit, \"TS bandit\")\n",
    "    exp.prepare(w=w, Q=Q, p=p, b=b)\n",
    "    exp.run_experiment(T=T)\n",
    "    \n",
    "    results = exp.get_as_np()\n",
    "    interests.append(results.interest)\n",
    "    responses.append(results.response)"
   ]
  },
  {
   "cell_type": "code",
   "execution_count": 6,
   "metadata": {},
   "outputs": [
    {
     "ename": "NameError",
     "evalue": "name 'repeatsм' is not defined",
     "output_type": "error",
     "traceback": [
      "\u001b[0;31m---------------------------------------------------------------------------\u001b[0m",
      "\u001b[0;31mNameError\u001b[0m                                 Traceback (most recent call last)",
      "\u001b[0;32m<ipython-input-6-df3692d9b7a8>\u001b[0m in \u001b[0;36m<module>\u001b[0;34m\u001b[0m\n\u001b[1;32m      1\u001b[0m \u001b[0msum_responces\u001b[0m \u001b[0;34m=\u001b[0m \u001b[0;34m[\u001b[0m\u001b[0;34m]\u001b[0m\u001b[0;34m\u001b[0m\u001b[0;34m\u001b[0m\u001b[0m\n\u001b[0;32m----> 2\u001b[0;31m \u001b[0;32mfor\u001b[0m \u001b[0mi\u001b[0m \u001b[0;32min\u001b[0m \u001b[0mrange\u001b[0m\u001b[0;34m(\u001b[0m\u001b[0mrepeatsм\u001b[0m\u001b[0;34m)\u001b[0m\u001b[0;34m:\u001b[0m\u001b[0;34m\u001b[0m\u001b[0;34m\u001b[0m\u001b[0m\n\u001b[0m\u001b[1;32m      3\u001b[0m     \u001b[0msum_responces\u001b[0m\u001b[0;34m.\u001b[0m\u001b[0mappend\u001b[0m\u001b[0;34m(\u001b[0m\u001b[0mnp\u001b[0m\u001b[0;34m.\u001b[0m\u001b[0mcumsum\u001b[0m\u001b[0;34m(\u001b[0m\u001b[0mresponses\u001b[0m\u001b[0;34m[\u001b[0m\u001b[0mi\u001b[0m\u001b[0;34m]\u001b[0m\u001b[0;34m.\u001b[0m\u001b[0mreshape\u001b[0m\u001b[0;34m(\u001b[0m\u001b[0;36m2000\u001b[0m\u001b[0;34m,\u001b[0m \u001b[0;34m-\u001b[0m\u001b[0;36m1\u001b[0m\u001b[0;34m)\u001b[0m\u001b[0;34m.\u001b[0m\u001b[0msum\u001b[0m\u001b[0;34m(\u001b[0m\u001b[0maxis\u001b[0m\u001b[0;34m=\u001b[0m\u001b[0;36m1\u001b[0m\u001b[0;34m)\u001b[0m\u001b[0;34m)\u001b[0m\u001b[0;34m)\u001b[0m\u001b[0;34m\u001b[0m\u001b[0;34m\u001b[0m\u001b[0m\n\u001b[1;32m      4\u001b[0m \u001b[0;34m\u001b[0m\u001b[0m\n\u001b[1;32m      5\u001b[0m \u001b[0msum_responces\u001b[0m \u001b[0;34m=\u001b[0m \u001b[0mnp\u001b[0m\u001b[0;34m.\u001b[0m\u001b[0marray\u001b[0m\u001b[0;34m(\u001b[0m\u001b[0msum_responces\u001b[0m\u001b[0;34m)\u001b[0m\u001b[0;34m\u001b[0m\u001b[0;34m\u001b[0m\u001b[0m\n",
      "\u001b[0;31mNameError\u001b[0m: name 'repeatsм' is not defined"
     ]
    }
   ],
   "source": [
    "sum_responces = []\n",
    "for i in range(repeatsм):  \n",
    "    sum_responces.append(np.cumsum(responses[i].reshape(2000, -1).sum(axis=1)))\n",
    "\n",
    "sum_responces = np.array(sum_responces)\n",
    "print(sum_responces.shape)\n",
    "\n",
    "sum_interests = []\n",
    "for i in range(repeats): \n",
    "    sum_interests.append(np.linalg.norm(interests[i] - interests[i][0], axis=1)**2)\n",
    "    \n",
    "sum_interests = np.array(sum_interests)\n",
    "print(sum_interests.shape)\n"
   ]
  },
  {
   "cell_type": "code",
   "execution_count": null,
   "metadata": {},
   "outputs": [],
   "source": [
    "\n",
    "plt.figure(figsize=(12, 8))\n",
    "for i in range(repeats):\n",
    "    plt.plot(sum_interests[i],  color='green', alpha=0.4)\n",
    "plt.yscale('log')\n",
    "plt.ylabel(r'$\\|\\mu_t - \\mu_0 \\|^2$')\n",
    "plt.title('Разброс нормы интересов для w = 4')\n",
    "plt.legend()\n",
    "plt.xlabel('Шаг')\n",
    "plt.savefig('var_norm_interest.pdf')"
   ]
  },
  {
   "cell_type": "code",
   "execution_count": null,
   "metadata": {},
   "outputs": [],
   "source": [
    "plt.figure(figsize=(12, 8))\n",
    "for i in range(20):\n",
    "    plt.plot(sum_responces[i], color='green', alpha=0.4)\n",
    "plt.yscale('log')\n",
    "plt.ylabel('награда')\n",
    "plt.title('Зависимость награды от шага')\n",
    "plt.legend()\n",
    "plt.xlabel('Шаг')\n",
    "# plt.savefig('norm_interest.pdf')"
   ]
  },
  {
   "cell_type": "code",
   "execution_count": null,
   "metadata": {},
   "outputs": [],
   "source": []
  }
 ],
 "metadata": {
  "kernelspec": {
   "display_name": "Python 3",
   "language": "python",
   "name": "python3"
  },
  "language_info": {
   "codemirror_mode": {
    "name": "ipython",
    "version": 3
   },
   "file_extension": ".py",
   "mimetype": "text/x-python",
   "name": "python",
   "nbconvert_exporter": "python",
   "pygments_lexer": "ipython3",
   "version": "3.8.5"
  }
 },
 "nbformat": 4,
 "nbformat_minor": 4
}
